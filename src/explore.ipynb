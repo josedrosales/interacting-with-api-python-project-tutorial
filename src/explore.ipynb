{
    "cells": [
        {
            "cell_type": "markdown",
            "metadata": {},
            "source": [
                "# Explore here"
            ]
        },
        {
            "cell_type": "code",
            "execution_count": 2,
            "metadata": {},
            "outputs": [
                {
                    "name": "stdout",
                    "output_type": "stream",
                    "text": [
                        "El top 3 más popular es:\n",
                        "  Nombre de la canción  Popularidad  Duración (minutos)\n",
                        "0         Fe de Errata           56                3.10\n",
                        "1                光 Luz           55                4.73\n",
                        "2        Mista Uanteik           54                4.34\n"
                    ]
                },
                {
                    "data": {
                        "image/png": "[encoded data removed]",
                        "text/plain": [
                            "<Figure size 500x300 with 1 Axes>"
                        ]
                    },
                    "metadata": {},
                    "output_type": "display_data"
                },
                {
                    "name": "stdout",
                    "output_type": "stream",
                    "text": [
                        "No existe relación lineal entre la duración de la canción y su popularidad, ya que R^2 es: 0.03735\n"
                    ]
                }
            ],
            "source": [
                "from dotenv import load_dotenv\n",
                "import os\n",
                "import pandas as pd\n",
                "import matplotlib.pyplot as plt\n",
                "from scipy.stats import linregress\n",
                "\n",
                "# Cargar variables de entorno desde el archivo .env\n",
                "load_dotenv()\n",
                "\n",
                "# Acceder a las variables de entorno\n",
                "client_id = os.getenv(\"CLIENT_ID\")\n",
                "client_secret = os.getenv(\"CLIENT_SECRET\")\n",
                "\n",
                "import spotipy\n",
                "from spotipy.oauth2 import SpotifyClientCredentials\n",
                "\n",
                "auth_manager = SpotifyClientCredentials(client_id=client_id, client_secret=client_secret)\n",
                "\n",
                "\n",
                "instancia = spotipy.Spotify(auth_manager=auth_manager)\n",
                "\n",
                "artist_id = '0qHbO3z6lgLE6ZYCkQBo1K'\n",
                "\n",
                "\n",
                "top_tracks = instancia.artist_top_tracks(artist_id)\n",
                "\n",
                "\n",
                "data = []\n",
                "for track in top_tracks['tracks'][0:10]:\n",
                "    track_name = track['name']\n",
                "    popularity = track['popularity']\n",
                "    duration_ms = track['duration_ms']\n",
                "    duration_min = round(duration_ms / (60 * 1000),2)\n",
                "\n",
                "    data.append({\n",
                "        'Nombre de la canción': track_name,\n",
                "        'Popularidad': popularity,\n",
                "        'Duración (minutos)': duration_min\n",
                "    })\n",
                "\n",
                "# Crea un DataFrame de pandas\n",
                "df = pd.DataFrame(data)\n",
                "\n",
                "# Se ordena el dataframe por popularidad\n",
                "df = df.sort_values(by='Popularidad', ascending=False)\n",
                "\n",
                "#se muestra top 3 por popularidad\n",
                "\n",
                "print('El top 3 más popular es:')\n",
                "print(df.head(3))\n",
                "\n",
                "#Verificacion de relacion entre duracion y popularidad\n",
                "\n",
                "plt.figure(figsize = (5, 3))\n",
                "plt.scatter(df['Duración (minutos)'], df['Popularidad'], alpha=0.5)\n",
                "plt.title('Popularidad vs Duración')\n",
                "plt.xlabel('Duración (min)')\n",
                "plt.ylabel('Popularidad')\n",
                "plt.grid(True)\n",
                "plt.show()\n",
                "\n",
                "\n",
                "slope, intercept, r_value, p_value, std_err = linregress(df['Duración (minutos)'], df['Popularidad'])\n",
                "r_squared = round(r_value**2,5)\n",
                "\n",
                "if r_squared < 0.5:\n",
                "\n",
                "    print(f'No existe relación lineal entre la duración de la canción y su popularidad, ya que R^2 es: {r_squared}')\n",
                "\n",
                "else:\n",
                "\n",
                "    print(f'Existe relación lineal entre la duración de la cancion y su popularidad, ya que R^2 es: {r_squared}')"
            ]
        }
    ],
    "metadata": {
        "kernelspec": {
            "display_name": "Python 3.8.13 64-bit ('3.8.13')",
            "language": "python",
            "name": "python3"
        },
        "language_info": {
            "codemirror_mode": {
                "name": "ipython",
                "version": 3
            },
            "file_extension": ".py",
            "mimetype": "text/x-python",
            "name": "python",
            "nbconvert_exporter": "python",
            "pygments_lexer": "ipython3",
            "version": "3.9.2"
        },
        "orig_nbformat": 4,
        "vscode": {
            "interpreter": {
                "hash": "110cc1dee26208153f2972f08a2ad52b6a56238dc66d48e87fb757ef2996db56"
            }
        }
    },
    "nbformat": 4,
    "nbformat_minor": 2
}
